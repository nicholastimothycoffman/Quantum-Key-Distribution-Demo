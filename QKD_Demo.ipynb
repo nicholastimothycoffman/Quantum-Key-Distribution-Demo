{
 "cells": [
  {
   "cell_type": "code",
   "execution_count": 37,
   "metadata": {},
   "outputs": [],
   "source": [
    "%matplotlib inline"
   ]
  },
  {
   "cell_type": "code",
   "execution_count": 38,
   "metadata": {},
   "outputs": [],
   "source": [
    "import numpy as np\n",
    "import matplotlib.pyplot as plt\n",
    "from qiskit import QuantumCircuit, transpile\n",
    "from qiskit.visualization import plot_histogram, plot_bloch_multivector\n",
    "from qiskit.quantum_info import Statevector\n",
    "from qiskit_aer import AerSimulator\n",
    "from IPython.display import display, Markdown\n"
   ]
  },
  {
   "cell_type": "code",
   "execution_count": 39,
   "metadata": {},
   "outputs": [],
   "source": [
    "simulator = AerSimulator()"
   ]
  },
  {
   "cell_type": "code",
   "execution_count": 40,
   "metadata": {},
   "outputs": [],
   "source": [
    "def create_bb84_circuit(bits, bases):\n",
    "    num_qubits = len(bits)\n",
    "    qc = QuantumCircuit(num_qubits, num_qubits)\n",
    "\n",
    "    for i in range(num_qubits):\n",
    "        if bases[i] == 1:\n",
    "            qc.h(i)\n",
    "        if bits[i] == 1:\n",
    "            qc.x(i)\n",
    "        if bases[i] == 1:\n",
    "            qc.h(i)\n",
    "        qc.barrier()\n",
    "\n",
    "        return qc, bits, bases"
   ]
  },
  {
   "cell_type": "code",
   "execution_count": 41,
   "metadata": {},
   "outputs": [],
   "source": [
    "def visualize_qubit_creation(qc):\n",
    "    display(Markdown(\"Circuit Diagram: Qubit State After Creation\"))\n",
    "    state = Statevector.from_instruction(qc)\n",
    "    plot_bloch_multivector(state, title = \"Qubit States After Creation\")\n",
    "    display(qc.draw(output = 'mpl'))\n",
    "    plt.show()"
   ]
  }
 ],
 "metadata": {
  "kernelspec": {
   "display_name": "jupyter_qiskit_env",
   "language": "python",
   "name": "jupyter_qiskit_env"
  },
  "language_info": {
   "codemirror_mode": {
    "name": "ipython",
    "version": 3
   },
   "file_extension": ".py",
   "mimetype": "text/x-python",
   "name": "python",
   "nbconvert_exporter": "python",
   "pygments_lexer": "ipython3",
   "version": "3.10.5"
  }
 },
 "nbformat": 4,
 "nbformat_minor": 2
}
